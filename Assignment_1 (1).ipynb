{
  "nbformat": 4,
  "nbformat_minor": 0,
  "metadata": {
    "colab": {
      "provenance": []
    },
    "kernelspec": {
      "name": "python3",
      "display_name": "Python 3"
    },
    "language_info": {
      "name": "python"
    }
  },
  "cells": [
    {
      "cell_type": "markdown",
      "source": [
        "1.Explain the key features of Python that make it a popular choice for programming."
      ],
      "metadata": {
        "id": "Z-gr41koWHaK"
      }
    },
    {
      "cell_type": "markdown",
      "source": [
        "A. Python is one of the most popular languages because of its simplicity and versatile nature.The following features make Python popular.They are:\n",
        "1. Simple and Easy: Python has simple and easy syntax and beginner friendly to understand does work with less lines of code unlike other programming languages.\n",
        "2.Interpreted language: Python executes code line by line making it easy to test and debug.\n",
        "3.Dynamically typed: In Python it doesn't require to declare data types for variables.\n",
        "4.Extensive Standard Library:Python has huge set of  buit-in modules and libraries to use saves time.\n",
        "5.Huge Community and support: It is easy to find help in documentation, coding, open source code because massive users use Python.\n",
        "6.Cross Platform:Python can be used and implemented across different operating systems such as windows,mac,linux etc.\n",
        "7.Versatile and Multi Paradigm: Python is key to open into may advanced technologies like Data Science, Data Analytics,Machine Learning, Artificial Intelligence,Automamtions, Game Development etc.\n",
        "Python has different approaches to solve problem like Functional, Object-Oriented, Procedural Oriented."
      ],
      "metadata": {
        "id": "lqA_nl3LWMjI"
      }
    },
    {
      "cell_type": "code",
      "source": [],
      "metadata": {
        "id": "7qTCXYqX3suo"
      },
      "execution_count": null,
      "outputs": []
    },
    {
      "cell_type": "markdown",
      "source": [
        "2.Describe the role of predefined keywords in Python and provide examples of how they are used in a\n",
        "program?"
      ],
      "metadata": {
        "id": "73oYvyIWeBSI"
      }
    },
    {
      "cell_type": "markdown",
      "source": [
        "A. Predefined keywords have special meaning to the Python interpreter.They define the syntax and structure of the language.These predefined words are prohibited to used as the identifiers like variable names,function names etc .The keywords help Python to understand what operations are being performed.List of some of keywords are False,True,None,and, or, asynd, if, else, elif,await, for,continue, break ,def,case etc.\n"
      ],
      "metadata": {
        "id": "OaMMixna-54u"
      }
    },
    {
      "cell_type": "code",
      "source": [
        "#Example\n",
        "'''This is an example of explaining predefined keywords.Given ages of 5 members ,print \"True\" when member is eligible to vote , print \"False\" when member is not eligible t0 vote'''\n",
        "No_of_members=5\n",
        "ages=[10,21,18,19,2]\n",
        "for i in range(0,No_of_members):\n",
        "  if ages[i]>=18:\n",
        "    print(\"True\")\n",
        "  else:\n",
        "    print(\"False\")"
      ],
      "metadata": {
        "colab": {
          "base_uri": "https://localhost:8080/"
        },
        "id": "Qzc0TLP5Asbg",
        "outputId": "3f8fabb9-ce18-4bdd-b8d5-504ebf9e3914"
      },
      "execution_count": 5,
      "outputs": [
        {
          "output_type": "stream",
          "name": "stdout",
          "text": [
            "False\n",
            "True\n",
            "True\n",
            "True\n",
            "False\n"
          ]
        }
      ]
    },
    {
      "cell_type": "markdown",
      "source": [
        "From above example range, for, if, else, print, True, False are predefined keywords"
      ],
      "metadata": {
        "id": "7xJwtwWaCX6f"
      }
    },
    {
      "cell_type": "code",
      "source": [
        "a=10\n",
        "print(a)\n"
      ],
      "metadata": {
        "colab": {
          "base_uri": "https://localhost:8080/"
        },
        "id": "6t1IxWeTCqde",
        "outputId": "d6cae0ee-85f4-4f71-dac3-82f0e3687b31"
      },
      "execution_count": 11,
      "outputs": [
        {
          "output_type": "stream",
          "name": "stdout",
          "text": [
            "10\n"
          ]
        }
      ]
    },
    {
      "cell_type": "code",
      "source": [
        "for=20\n",
        "print(20)"
      ],
      "metadata": {
        "colab": {
          "base_uri": "https://localhost:8080/",
          "height": 106
        },
        "id": "hXQ7L8BbDI1t",
        "outputId": "b1150928-5b15-4d86-d176-e6c3da8faa1c"
      },
      "execution_count": 12,
      "outputs": [
        {
          "output_type": "error",
          "ename": "SyntaxError",
          "evalue": "invalid syntax (<ipython-input-12-1d6e99fc5174>, line 1)",
          "traceback": [
            "\u001b[0;36m  File \u001b[0;32m\"<ipython-input-12-1d6e99fc5174>\"\u001b[0;36m, line \u001b[0;32m1\u001b[0m\n\u001b[0;31m    for=20\u001b[0m\n\u001b[0m       ^\u001b[0m\n\u001b[0;31mSyntaxError\u001b[0m\u001b[0;31m:\u001b[0m invalid syntax\n"
          ]
        }
      ]
    },
    {
      "cell_type": "markdown",
      "source": [
        "when a is assigned and printed no error found ,but when for assigned with 20 it showing invalid syntax error because for is predefined and cannot be used as identifier."
      ],
      "metadata": {
        "id": "WrlzvODWDOf1"
      }
    },
    {
      "cell_type": "markdown",
      "source": [
        "3. Compare and contrast mutable and immutable objects in Python with examples."
      ],
      "metadata": {
        "id": "cnFzwth3C70l"
      }
    },
    {
      "cell_type": "markdown",
      "source": [
        "A.Mutable Object: Mutable objects can be changed after they are created.These objects can be modified,added, removed witout changing object's identity i.e its memory address.Mutable objects are Lists, dict,set,array."
      ],
      "metadata": {
        "id": "oW5hH_0EEOcn"
      }
    },
    {
      "cell_type": "code",
      "source": [
        "#Eg1:\n",
        "'''Here we can modify the elements in list by adding, removing,replacing etc'''\n",
        "l=[10,20,'data',['age','rollno'],\"@\"]\n",
        "print(l)"
      ],
      "metadata": {
        "colab": {
          "base_uri": "https://localhost:8080/"
        },
        "id": "D92QjE61FDc2",
        "outputId": "9c4b6200-6cbb-4984-daf1-955258c66c27"
      },
      "execution_count": 15,
      "outputs": [
        {
          "output_type": "stream",
          "name": "stdout",
          "text": [
            "[10, 20, 'data', ['age', 'rollno'], '@']\n"
          ]
        }
      ]
    },
    {
      "cell_type": "markdown",
      "source": [],
      "metadata": {
        "id": "9-q_zi04Fg79"
      }
    },
    {
      "cell_type": "code",
      "source": [
        "l[2]=\"data_analytics\"\n",
        "print(l)"
      ],
      "metadata": {
        "colab": {
          "base_uri": "https://localhost:8080/"
        },
        "id": "BaWIxW1OFr6O",
        "outputId": "4891ed0f-8264-4dc2-b4b6-ec6dc4780431"
      },
      "execution_count": 16,
      "outputs": [
        {
          "output_type": "stream",
          "name": "stdout",
          "text": [
            "[10, 20, 'data_analytics', ['age', 'rollno'], '@']\n"
          ]
        }
      ]
    },
    {
      "cell_type": "code",
      "source": [
        "l.pop() #@ removed\n",
        "print(l)"
      ],
      "metadata": {
        "colab": {
          "base_uri": "https://localhost:8080/"
        },
        "id": "C0JCPF_MGDp1",
        "outputId": "2536827c-6a91-4148-821e-6b4889227bec"
      },
      "execution_count": 17,
      "outputs": [
        {
          "output_type": "stream",
          "name": "stdout",
          "text": [
            "[10, 20, 'data_analytics', ['age', 'rollno']]\n"
          ]
        }
      ]
    },
    {
      "cell_type": "code",
      "source": [
        "l.append(100)\n",
        "print(l)"
      ],
      "metadata": {
        "colab": {
          "base_uri": "https://localhost:8080/"
        },
        "id": "zfO0dVUUGLqF",
        "outputId": "c1e09111-db14-4df7-d280-6eb20561b54e"
      },
      "execution_count": 18,
      "outputs": [
        {
          "output_type": "stream",
          "name": "stdout",
          "text": [
            "[10, 20, 'data_analytics', ['age', 'rollno'], 100]\n"
          ]
        }
      ]
    },
    {
      "cell_type": "code",
      "source": [
        "l.insert(0,'start')\n",
        "print(l)"
      ],
      "metadata": {
        "colab": {
          "base_uri": "https://localhost:8080/"
        },
        "id": "Wgnj0obLGUVV",
        "outputId": "ef547d5e-cf38-446f-c1cb-b01d72e6605b"
      },
      "execution_count": 21,
      "outputs": [
        {
          "output_type": "stream",
          "name": "stdout",
          "text": [
            "['start', 10, 20, 'data_analytics', ['age', 'rollno'], 100]\n"
          ]
        }
      ]
    },
    {
      "cell_type": "code",
      "source": [
        "l.remove(['age','rollno'])\n",
        "print(l)\n"
      ],
      "metadata": {
        "colab": {
          "base_uri": "https://localhost:8080/"
        },
        "id": "NbOLEfNuG76r",
        "outputId": "1b551352-f138-44d7-99c5-a5266c2e4e81"
      },
      "execution_count": 22,
      "outputs": [
        {
          "output_type": "stream",
          "name": "stdout",
          "text": [
            "['start', 10, 20, 'data_analytics', 100]\n"
          ]
        }
      ]
    },
    {
      "cell_type": "code",
      "source": [
        "l1=['apple','banana']\n",
        "l.extend(l1)\n",
        "print(l)"
      ],
      "metadata": {
        "colab": {
          "base_uri": "https://localhost:8080/"
        },
        "id": "oovzzRDqG0v2",
        "outputId": "59c5c5cc-0cc9-4dec-c18d-09ffc0d3deb3"
      },
      "execution_count": 24,
      "outputs": [
        {
          "output_type": "stream",
          "name": "stdout",
          "text": [
            "['start', 10, 20, 'data_analytics', 100, 'apple', 'banana']\n"
          ]
        }
      ]
    },
    {
      "cell_type": "markdown",
      "source": [
        "Immutable object:Objects cannot be changed or modified one they are created.Eg:string,int,float,tuple,bool"
      ],
      "metadata": {
        "id": "6yw73k7jHhXs"
      }
    },
    {
      "cell_type": "code",
      "source": [
        "#Eg\n",
        "name=\"TOLLYWOOD\"\n",
        "print(name)\n",
        "name[0]=\"B\"\n",
        "print(name)"
      ],
      "metadata": {
        "colab": {
          "base_uri": "https://localhost:8080/",
          "height": 211
        },
        "id": "eHWT4-h_IB_c",
        "outputId": "2d4992a0-ae7d-47eb-b051-b70864b3750d"
      },
      "execution_count": 28,
      "outputs": [
        {
          "output_type": "stream",
          "name": "stdout",
          "text": [
            "TOLLYWOOD\n"
          ]
        },
        {
          "output_type": "error",
          "ename": "TypeError",
          "evalue": "'str' object does not support item assignment",
          "traceback": [
            "\u001b[0;31m---------------------------------------------------------------------------\u001b[0m",
            "\u001b[0;31mTypeError\u001b[0m                                 Traceback (most recent call last)",
            "\u001b[0;32m<ipython-input-28-d823aab7ee05>\u001b[0m in \u001b[0;36m<cell line: 0>\u001b[0;34m()\u001b[0m\n\u001b[1;32m      2\u001b[0m \u001b[0mname\u001b[0m\u001b[0;34m=\u001b[0m\u001b[0;34m\"TOLLYWOOD\"\u001b[0m\u001b[0;34m\u001b[0m\u001b[0;34m\u001b[0m\u001b[0m\n\u001b[1;32m      3\u001b[0m \u001b[0mprint\u001b[0m\u001b[0;34m(\u001b[0m\u001b[0mname\u001b[0m\u001b[0;34m)\u001b[0m\u001b[0;34m\u001b[0m\u001b[0;34m\u001b[0m\u001b[0m\n\u001b[0;32m----> 4\u001b[0;31m \u001b[0mname\u001b[0m\u001b[0;34m[\u001b[0m\u001b[0;36m0\u001b[0m\u001b[0;34m]\u001b[0m\u001b[0;34m=\u001b[0m\u001b[0;34m\"B\"\u001b[0m\u001b[0;34m\u001b[0m\u001b[0;34m\u001b[0m\u001b[0m\n\u001b[0m\u001b[1;32m      5\u001b[0m \u001b[0mprint\u001b[0m\u001b[0;34m(\u001b[0m\u001b[0mname\u001b[0m\u001b[0;34m)\u001b[0m\u001b[0;34m\u001b[0m\u001b[0;34m\u001b[0m\u001b[0m\n",
            "\u001b[0;31mTypeError\u001b[0m: 'str' object does not support item assignment"
          ]
        }
      ]
    },
    {
      "cell_type": "markdown",
      "source": [
        "since string is an immutable object cannot be modified"
      ],
      "metadata": {
        "id": "fsieHBBiIim2"
      }
    },
    {
      "cell_type": "code",
      "source": [
        "#Eg\n",
        "'''Tuple '''\n",
        "student=(\"Anil\",19,'cse')\n",
        "print(student)\n",
        "print(student[2])\n",
        "student[2]=\"ECE\"\n",
        "print(student)"
      ],
      "metadata": {
        "colab": {
          "base_uri": "https://localhost:8080/",
          "height": 228
        },
        "id": "I6VHQm3BJAU0",
        "outputId": "f650bdcd-abd6-46b1-8029-f490c13c823f"
      },
      "execution_count": 32,
      "outputs": [
        {
          "output_type": "stream",
          "name": "stdout",
          "text": [
            "('Anil', 19, 'cse')\n",
            "cse\n"
          ]
        },
        {
          "output_type": "error",
          "ename": "TypeError",
          "evalue": "'tuple' object does not support item assignment",
          "traceback": [
            "\u001b[0;31m---------------------------------------------------------------------------\u001b[0m",
            "\u001b[0;31mTypeError\u001b[0m                                 Traceback (most recent call last)",
            "\u001b[0;32m<ipython-input-32-3802f0ab5f74>\u001b[0m in \u001b[0;36m<cell line: 0>\u001b[0;34m()\u001b[0m\n\u001b[1;32m      4\u001b[0m \u001b[0mprint\u001b[0m\u001b[0;34m(\u001b[0m\u001b[0mstudent\u001b[0m\u001b[0;34m)\u001b[0m\u001b[0;34m\u001b[0m\u001b[0;34m\u001b[0m\u001b[0m\n\u001b[1;32m      5\u001b[0m \u001b[0mprint\u001b[0m\u001b[0;34m(\u001b[0m\u001b[0mstudent\u001b[0m\u001b[0;34m[\u001b[0m\u001b[0;36m2\u001b[0m\u001b[0;34m]\u001b[0m\u001b[0;34m)\u001b[0m\u001b[0;34m\u001b[0m\u001b[0;34m\u001b[0m\u001b[0m\n\u001b[0;32m----> 6\u001b[0;31m \u001b[0mstudent\u001b[0m\u001b[0;34m[\u001b[0m\u001b[0;36m2\u001b[0m\u001b[0;34m]\u001b[0m\u001b[0;34m=\u001b[0m\u001b[0;34m\"ECE\"\u001b[0m\u001b[0;34m\u001b[0m\u001b[0;34m\u001b[0m\u001b[0m\n\u001b[0m\u001b[1;32m      7\u001b[0m \u001b[0mprint\u001b[0m\u001b[0;34m(\u001b[0m\u001b[0mstudent\u001b[0m\u001b[0;34m)\u001b[0m\u001b[0;34m\u001b[0m\u001b[0;34m\u001b[0m\u001b[0m\n",
            "\u001b[0;31mTypeError\u001b[0m: 'tuple' object does not support item assignment"
          ]
        }
      ]
    },
    {
      "cell_type": "markdown",
      "source": [
        "These immutable objects helps in data integrity and security in real world."
      ],
      "metadata": {
        "id": "omaDECTcJrOt"
      }
    },
    {
      "cell_type": "markdown",
      "source": [
        "4. Discuss the different types of operators in Python and provide examples of how they are used."
      ],
      "metadata": {
        "id": "m0ItM0ebgCEh"
      }
    },
    {
      "cell_type": "markdown",
      "source": [
        "A. Operators in Python are used to perform operations between two operands.The types of operators in Python are Arithmetic operators, Comparison(Relational) Operators,Assignment Operators,Logical Operators,Identity Operators,Membership Operators,Bitwise Operators"
      ],
      "metadata": {
        "id": "J4W32V_7gFm6"
      }
    },
    {
      "cell_type": "code",
      "source": [
        "#1.Arithmetic Operators\n",
        "a=10\n",
        "b=5\n",
        "print(a+b) #addition\n",
        "print(a-b) #subtraction\n",
        "print(a*b) #multiplicaton\n",
        "print(a/b) #Division\n",
        "print(a//b) #Floor Division\n",
        "print(a%b) #modulus\n",
        "print(a**b) #exponentiation"
      ],
      "metadata": {
        "colab": {
          "base_uri": "https://localhost:8080/"
        },
        "id": "bFLW8gKZhSXD",
        "outputId": "d14f3cbe-6427-473e-b0a7-e9d2d0b191a2"
      },
      "execution_count": 1,
      "outputs": [
        {
          "output_type": "stream",
          "name": "stdout",
          "text": [
            "15\n",
            "5\n",
            "50\n",
            "2.0\n",
            "2\n",
            "0\n",
            "100000\n"
          ]
        }
      ]
    },
    {
      "cell_type": "code",
      "source": [
        "#2.Comparison Operators\n",
        "a=1\n",
        "b=2\n",
        "print(a==b)\n",
        "print(a!=b)\n",
        "print(a>b)\n",
        "print(a<b)\n",
        "print(a>=b)\n",
        "print(a<=b)"
      ],
      "metadata": {
        "colab": {
          "base_uri": "https://localhost:8080/"
        },
        "id": "jnVcRocKiKGC",
        "outputId": "c26749c0-44ca-430a-b4d3-e58ee588d0de"
      },
      "execution_count": 7,
      "outputs": [
        {
          "output_type": "stream",
          "name": "stdout",
          "text": [
            "False\n",
            "True\n",
            "False\n",
            "True\n",
            "False\n",
            "True\n"
          ]
        }
      ]
    },
    {
      "cell_type": "code",
      "source": [
        "#3.Assignment Operators\n",
        "a=10\n",
        "a+=5\n",
        "print(a)\n",
        "a-=5\n",
        "print(a)\n",
        "a*=5\n",
        "print(a)\n",
        "a/=5\n",
        "print(a)\n",
        "a//=5\n",
        "print(a)\n",
        "a%=5\n",
        "print(a)\n",
        "a**=5\n",
        "print(a)\n"
      ],
      "metadata": {
        "colab": {
          "base_uri": "https://localhost:8080/"
        },
        "id": "3NrWaSaFiu3i",
        "outputId": "4ded987f-e862-481e-eba5-8a8f5614fc50"
      },
      "execution_count": 13,
      "outputs": [
        {
          "output_type": "stream",
          "name": "stdout",
          "text": [
            "15\n",
            "10\n",
            "50\n",
            "10.0\n",
            "2.0\n",
            "2.0\n",
            "32.0\n"
          ]
        }
      ]
    },
    {
      "cell_type": "code",
      "source": [
        "# 4.Logical Operators\n",
        "a=5\n",
        "b=10\n",
        "c=6\n",
        "if a<c and b>c:\n",
        "  print(\"True\")\n",
        "if (a<b or b<c):\n",
        "  print(\"True\")\n",
        "else:\n",
        "  pass\n",
        "print(not(a>b))\n",
        "\n"
      ],
      "metadata": {
        "colab": {
          "base_uri": "https://localhost:8080/"
        },
        "id": "h25uaf7njtby",
        "outputId": "345d1f60-11f5-4c82-948d-8f2baf9d6222"
      },
      "execution_count": 22,
      "outputs": [
        {
          "output_type": "stream",
          "name": "stdout",
          "text": [
            "True\n",
            "True\n",
            "True\n"
          ]
        }
      ]
    },
    {
      "cell_type": "code",
      "source": [
        "#5.Identity operators\n",
        "a=5\n",
        "b=5\n",
        "print(a is b)\n",
        "print(a is not b)"
      ],
      "metadata": {
        "colab": {
          "base_uri": "https://localhost:8080/"
        },
        "id": "ipYLJyt3lMfR",
        "outputId": "14d106e0-188e-44d0-b566-cbbb8684f387"
      },
      "execution_count": 23,
      "outputs": [
        {
          "output_type": "stream",
          "name": "stdout",
          "text": [
            "True\n",
            "False\n"
          ]
        }
      ]
    },
    {
      "cell_type": "code",
      "source": [
        "#6.Membership Operators\n",
        "if 'a' in 'apple':\n",
        "  print(\"True\")\n",
        "if 'z' not in 'apple':\n",
        "  print(\"True\")"
      ],
      "metadata": {
        "colab": {
          "base_uri": "https://localhost:8080/"
        },
        "id": "r0GPXfVylaLn",
        "outputId": "53320507-fc08-45c7-b3e6-d5188b314d21"
      },
      "execution_count": 26,
      "outputs": [
        {
          "output_type": "stream",
          "name": "stdout",
          "text": [
            "True\n",
            "True\n"
          ]
        }
      ]
    },
    {
      "cell_type": "code",
      "source": [
        "#7.Bitwise Operator\n",
        "print(5&3)\n",
        "print(5|2)\n",
        "print(5^3)\n",
        "print(5<<1)\n",
        "print(5>>1)\n",
        "print(~1)"
      ],
      "metadata": {
        "colab": {
          "base_uri": "https://localhost:8080/"
        },
        "id": "3gHjBBRYmLUC",
        "outputId": "7af4615b-bb4c-4e40-8ab4-539a766bced9"
      },
      "execution_count": 29,
      "outputs": [
        {
          "output_type": "stream",
          "name": "stdout",
          "text": [
            "1\n",
            "7\n",
            "6\n",
            "10\n",
            "2\n",
            "-2\n"
          ]
        }
      ]
    },
    {
      "cell_type": "markdown",
      "source": [
        "5.Explain the concept of type casting in Python with examples"
      ],
      "metadata": {
        "id": "SrhqaLz7ndth"
      }
    },
    {
      "cell_type": "markdown",
      "source": [
        "Typecasting a process of converting one data type to another data type.There are two types of types casting,\n",
        "1.Implicit Typecasting\n",
        "2.Explicit Typecasting"
      ],
      "metadata": {
        "id": "-6atKWYZniSh"
      }
    },
    {
      "cell_type": "code",
      "source": [
        "#Implicit Typecasting:\n",
        "a=5 #int\n",
        "b=10.0 #float\n",
        "ans=a+b\n",
        "print(ans)\n",
        "print(type(ans))\n",
        "'''Implicitly (internally) ans is converted to float to avoid losing accuracy'''"
      ],
      "metadata": {
        "colab": {
          "base_uri": "https://localhost:8080/"
        },
        "id": "G7JQeL6Mn9hX",
        "outputId": "f27b3954-394e-4ab7-fc65-3f9ed678e874"
      },
      "execution_count": 31,
      "outputs": [
        {
          "output_type": "stream",
          "name": "stdout",
          "text": [
            "15.0\n",
            "<class 'float'>\n"
          ]
        }
      ]
    },
    {
      "cell_type": "code",
      "source": [
        "#Explict typecasting\n",
        "\n",
        "a=10\n",
        "print(type(a))\n",
        "print(float(a))\n",
        "print(str(a))\n",
        "print(type(str(a)))\n",
        "print(bool(a))\n",
        "print(type(bool(a)))\n"
      ],
      "metadata": {
        "colab": {
          "base_uri": "https://localhost:8080/"
        },
        "id": "3OrUZbs4omsQ",
        "outputId": "88257d89-aa78-47e2-89f0-51e69cdefe84"
      },
      "execution_count": 38,
      "outputs": [
        {
          "output_type": "stream",
          "name": "stdout",
          "text": [
            "<class 'int'>\n",
            "10.0\n",
            "10\n",
            "<class 'str'>\n",
            "True\n",
            "<class 'bool'>\n"
          ]
        }
      ]
    },
    {
      "cell_type": "markdown",
      "source": [
        "6. How do conditional statements work in Python? Illustrate with examples."
      ],
      "metadata": {
        "id": "gh9KvpucpaBS"
      }
    },
    {
      "cell_type": "markdown",
      "source": [
        "A.Conditional statements lets follow conditions in code to meet certain approach.There are 4 types of conditional statements.They are"
      ],
      "metadata": {
        "id": "gScl_8JCpdto"
      }
    },
    {
      "cell_type": "code",
      "source": [
        "#if statement\n",
        "age=18\n",
        "if age>=18:\n",
        "  print(\"Eligible to vote\")"
      ],
      "metadata": {
        "colab": {
          "base_uri": "https://localhost:8080/"
        },
        "id": "ROQQ2bfYp4jO",
        "outputId": "91d56403-a3ee-43a1-8258-cdf49357a336"
      },
      "execution_count": 39,
      "outputs": [
        {
          "output_type": "stream",
          "name": "stdout",
          "text": [
            "Eligible to vote\n"
          ]
        }
      ]
    },
    {
      "cell_type": "code",
      "source": [
        "# if...else statement\n",
        "age=17\n",
        "if age>=18:\n",
        "  print(\"Eligible to vote\")\n",
        "else:\n",
        "  print(\"Not eligible to vote\")"
      ],
      "metadata": {
        "colab": {
          "base_uri": "https://localhost:8080/"
        },
        "id": "r54K7J-KqCEn",
        "outputId": "14fb1c7f-159f-4c16-aa08-6a8ec55ea9fe"
      },
      "execution_count": 42,
      "outputs": [
        {
          "output_type": "stream",
          "name": "stdout",
          "text": [
            "Not eligible to vote\n"
          ]
        }
      ]
    },
    {
      "cell_type": "code",
      "source": [
        "#if...elif...else statement\n",
        "marks=75\n",
        "if marks>=90:\n",
        "  print(\"Grade A\")\n",
        "elif marks>=80:\n",
        "  print(\"Grade B\")\n",
        "elif marks>=70:\n",
        "  print(\"Grade C\")\n",
        "elif marks>=60:\n",
        "  print(\"Grade D\")\n",
        "else:\n",
        "  print(\"Fail\")"
      ],
      "metadata": {
        "colab": {
          "base_uri": "https://localhost:8080/"
        },
        "id": "BUhTPzR8qUsg",
        "outputId": "addce26c-aaf1-4178-f14e-2df4d258324f"
      },
      "execution_count": 41,
      "outputs": [
        {
          "output_type": "stream",
          "name": "stdout",
          "text": [
            "Grade C\n"
          ]
        }
      ]
    },
    {
      "cell_type": "code",
      "source": [
        "#Nested if statement\n",
        "age=18\n",
        "female_age=19\n",
        "male_age=21\n",
        "if age>=18:\n",
        "  if female_age>=19:\n",
        "    if male_age>=21:\n",
        "      print(\"Eligible to marry\")\n",
        "    else:\n",
        "      print(\"not eligible to marry\")\n",
        "  else:\n",
        "    print(\"Not eligible to marry\")\n",
        "else:\n",
        "  print(\"Not Eligible to marry\")"
      ],
      "metadata": {
        "id": "UdSG9FYqrhoZ"
      },
      "execution_count": null,
      "outputs": []
    },
    {
      "cell_type": "markdown",
      "source": [],
      "metadata": {
        "id": "xvpgVdbQszRm"
      }
    },
    {
      "cell_type": "markdown",
      "source": [
        "7.Describe the different types of loops in Python and their use cases with examples."
      ],
      "metadata": {
        "id": "U318mFl_s03f"
      }
    },
    {
      "cell_type": "markdown",
      "source": [
        "A. Loops are used to iterate over a sequence.There are two types of loops in python.\n",
        "1.for loop\n",
        "2.while loop"
      ],
      "metadata": {
        "id": "wMpTz-RatDRP"
      }
    },
    {
      "cell_type": "code",
      "source": [
        "#for loop\n",
        "a=[10,20,30,40,10,20,89,65,34,12]\n",
        "for i in range(0,len(a)):\n",
        "  print(a[i],end=\" \")\n",
        "'''for loop is used when we know till how many number of times when loop supposed to run'''"
      ],
      "metadata": {
        "colab": {
          "base_uri": "https://localhost:8080/"
        },
        "id": "Tz-GE2i0t2cP",
        "outputId": "5d418581-548e-447c-8e71-60554234f1a8"
      },
      "execution_count": 44,
      "outputs": [
        {
          "output_type": "stream",
          "name": "stdout",
          "text": [
            "10 20 30 40 10 20 89 65 34 12 "
          ]
        }
      ]
    },
    {
      "cell_type": "code",
      "source": [
        "#while loop\n",
        "a=10\n",
        "i=1\n",
        "while(i<a):\n",
        "  print(i,end=\" \")\n",
        "  i+=1\n",
        "\n",
        "'''while loop is used when we dont know exact how many numbers of times loop supposed to run'''"
      ],
      "metadata": {
        "colab": {
          "base_uri": "https://localhost:8080/",
          "height": 52
        },
        "id": "Rnu7F0-0ufBx",
        "outputId": "37e77c94-db3f-42fc-a2fa-895e1c691046"
      },
      "execution_count": 52,
      "outputs": [
        {
          "output_type": "stream",
          "name": "stdout",
          "text": [
            "1 2 3 4 5 6 7 8 9 "
          ]
        },
        {
          "output_type": "execute_result",
          "data": {
            "text/plain": [
              "'while loop is used when we dont know exact how many numbers of times loop supposed to run'"
            ],
            "application/vnd.google.colaboratory.intrinsic+json": {
              "type": "string"
            }
          },
          "metadata": {},
          "execution_count": 52
        }
      ]
    },
    {
      "cell_type": "markdown",
      "source": [
        "loops usually involves loop control statements they are:"
      ],
      "metadata": {
        "id": "yZBcSPBzx9u_"
      }
    },
    {
      "cell_type": "code",
      "source": [
        "#break\n",
        "\n",
        "for i in range(1,5):\n",
        "  if i==3:\n",
        "    break\n",
        "  print(i)"
      ],
      "metadata": {
        "colab": {
          "base_uri": "https://localhost:8080/"
        },
        "id": "5E0neSJTyGPo",
        "outputId": "6ac5eac1-7b70-40cb-858f-e6017fed614c"
      },
      "execution_count": 49,
      "outputs": [
        {
          "output_type": "stream",
          "name": "stdout",
          "text": [
            "1\n",
            "2\n"
          ]
        }
      ]
    },
    {
      "cell_type": "code",
      "source": [
        "# continue\n",
        "\n",
        "for i in range(1,5):\n",
        "  if i==3:\n",
        "    continue\n",
        "  print(i)"
      ],
      "metadata": {
        "colab": {
          "base_uri": "https://localhost:8080/"
        },
        "id": "RrBUewanySju",
        "outputId": "1ef0e94b-3be5-4872-ce3c-20964aaa9084"
      },
      "execution_count": 50,
      "outputs": [
        {
          "output_type": "stream",
          "name": "stdout",
          "text": [
            "1\n",
            "2\n",
            "4\n"
          ]
        }
      ]
    },
    {
      "cell_type": "code",
      "source": [
        "#pass\n",
        "a=4\n",
        "b=3\n",
        "if (a>b):\n",
        "  print(\"True\")\n",
        "elif (a<b):\n",
        "  pass\n",
        "else:\n",
        "  print(\"False\")\n",
        "'''when no statement to pass to conditions we can use \"pass\" keyword'''"
      ],
      "metadata": {
        "colab": {
          "base_uri": "https://localhost:8080/",
          "height": 52
        },
        "id": "ppkFhxYmyej-",
        "outputId": "0a070b5f-5544-4347-99d7-e5d19fe3c0dd"
      },
      "execution_count": 51,
      "outputs": [
        {
          "output_type": "stream",
          "name": "stdout",
          "text": [
            "True\n"
          ]
        },
        {
          "output_type": "execute_result",
          "data": {
            "text/plain": [
              "'when no statement to pass to conditions we can use \"pass\" keyword'"
            ],
            "application/vnd.google.colaboratory.intrinsic+json": {
              "type": "string"
            }
          },
          "metadata": {},
          "execution_count": 51
        }
      ]
    }
  ]
}